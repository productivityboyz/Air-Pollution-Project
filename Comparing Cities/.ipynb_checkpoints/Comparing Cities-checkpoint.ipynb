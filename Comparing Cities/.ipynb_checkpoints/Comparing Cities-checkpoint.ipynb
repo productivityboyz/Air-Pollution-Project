{
 "cells": [
  {
   "cell_type": "markdown",
   "metadata": {},
   "source": [
    "## Early aims for this Notebook:\n",
    "- Make a function that lets you easily load CSVs from URLs to variables\n",
    "- Function that flexibly cleans DataFrames, as different locations have different air pollution metrics"
   ]
  },
  {
   "cell_type": "code",
   "execution_count": 1,
   "metadata": {},
   "outputs": [
    {
     "name": "stdout",
     "output_type": "stream",
     "text": [
      "Wall time: 1.06 s\n"
     ]
    }
   ],
   "source": [
    "%%time\n",
    "### Imports ###\n",
    "import pandas as pd\n",
    "import numpy as np\n",
    "import seaborn as sns\n",
    "import matplotlib.pyplot as plt\n",
    "import matplotlib as mpl\n",
    "mpl.style.use('seaborn-poster')\n",
    "from matplotlib.pyplot import *\n",
    "from datetime import timedelta\n",
    "import calendar # for getting month name i.e. Feb from month number\n",
    "from urllib.request import urlretrieve # for getting data from URLs\n",
    "from datetime import datetime\n",
    "import datetime as dt\n",
    "import os # for deleting files\n",
    "%matplotlib inline"
   ]
  },
  {
   "cell_type": "code",
   "execution_count": 2,
   "metadata": {},
   "outputs": [],
   "source": [
    "import pollution_functions"
   ]
  },
  {
   "cell_type": "markdown",
   "metadata": {},
   "source": [
    "---\n",
    "\n",
    "To start with, will compare **Reading London Road** ([link](https://uk-air.defra.gov.uk/data/flat_files?site_id=REA5)) to **Derby** ([link](https://uk-air.defra.gov.uk/data/flat_files?site_id=DESA)) to **Newcastle Centre** ([link](https://uk-air.defra.gov.uk/data/flat_files?site_id=NEWC))\n",
    "\n",
    "---\n",
    "\n",
    "### Data for each location:\n",
    "#### Derby:\n",
    "- Data from: 2017\n",
    "- Metrics: Nitric oxide, Nitrogen dioxide, Nitrogen oxides as nitrogen dioxide\n",
    "\n",
    "#### Reading: \n",
    "- Data from: \n",
    "- Metrics: Nitric oxide, Nitrogen dioxide, Nitrogen oxides as nitrogen dioxide, PM10 particulate matter\n",
    "\n",
    "#### Newcastle: \n",
    "- Data from: 1992\n",
    "- Metrics: Ozone\n",
    "\n",
    "#### Total metrics that can be measured:\n",
    "- Ozone, Nitric oxide, Nitrogen dioxide, Nitrogen oxides as nitrogen dioxide, Sulphur dioxide, Carbon monoxide, PM10 particulate matter, Non-volatile PM10, Colatile PM10, PM 2.5 particulate matter, Non-volatile PM2.5, Volatile PM2.5\n",
    "\n",
    "---\n",
    "## Step 1: Get data & clean it"
   ]
  },
  {
   "cell_type": "code",
   "execution_count": 3,
   "metadata": {},
   "outputs": [],
   "source": [
    "derby20, derby19, derby18, derby17 = pollution_functions.getdata('https://uk-air.defra.gov.uk/data_files/site_data/DESA_2020.csv',\n",
    "                                             'https://uk-air.defra.gov.uk/data_files/site_data/DESA_2019.csv',\n",
    "                                             'https://uk-air.defra.gov.uk/data_files/site_data/DESA_2018.csv',\n",
    "                                             'https://uk-air.defra.gov.uk/data_files/site_data/DESA_2017.csv')\n",
    "\n",
    "reading20, reading19, reading18,reading17, reading16 = pollution_functions.getdata('https://uk-air.defra.gov.uk/data_files/site_data/REA5_2020.csv',\n",
    "                                                               'https://uk-air.defra.gov.uk/data_files/site_data/REA5_2019.csv',\n",
    "                                                               'https://uk-air.defra.gov.uk/data_files/site_data/REA5_2018.csv',\n",
    "                                                               'https://uk-air.defra.gov.uk/data_files/site_data/REA5_2017.csv',\n",
    "                                                               'https://uk-air.defra.gov.uk/data_files/site_data/REA5_2016.csv')\n",
    "\n",
    "newcastle20, newcastle19, newcastle18, newcastle17, newcastle16 = pollution_functions.getdata('https://uk-air.defra.gov.uk/data_files/site_data/NEWC_2020.csv',\n",
    "                                                                         'https://uk-air.defra.gov.uk/data_files/site_data/NEWC_2019.csv',\n",
    "                                                                         'https://uk-air.defra.gov.uk/data_files/site_data/NEWC_2018.csv',\n",
    "                                                                         'https://uk-air.defra.gov.uk/data_files/site_data/NEWC_2017.csv',\n",
    "                                                                         'https://uk-air.defra.gov.uk/data_files/site_data/NEWC_2016.csv')"
   ]
  },
  {
   "cell_type": "code",
   "execution_count": 4,
   "metadata": {},
   "outputs": [],
   "source": [
    "for df in (derby20,derby19,derby18,derby17,\n",
    "           newcastle20,newcastle19,newcastle18,newcastle17,newcastle16,\n",
    "          reading20,reading19,reading18,reading17,reading16):\n",
    "    pollution_functions.cleaner(df)"
   ]
  },
  {
   "cell_type": "code",
   "execution_count": 5,
   "metadata": {},
   "outputs": [],
   "source": [
    "derby = pd.concat([derby20,derby19,derby18,derby17],sort=False) # had to add sort=False to silence an error that I should really investigate\n",
    "reading = pd.concat([reading20,reading19,reading18,reading17,reading16],sort=False)\n",
    "newcastle = pd.concat([newcastle20,newcastle19,newcastle18,newcastle17,newcastle16],sort=False)"
   ]
  },
  {
   "cell_type": "markdown",
   "metadata": {},
   "source": [
    "# Some quick EDA"
   ]
  }
 ],
 "metadata": {
  "kernelspec": {
   "display_name": "Python 3",
   "language": "python",
   "name": "python3"
  },
  "language_info": {
   "codemirror_mode": {
    "name": "ipython",
    "version": 3
   },
   "file_extension": ".py",
   "mimetype": "text/x-python",
   "name": "python",
   "nbconvert_exporter": "python",
   "pygments_lexer": "ipython3",
   "version": "3.7.4"
  }
 },
 "nbformat": 4,
 "nbformat_minor": 4
}
