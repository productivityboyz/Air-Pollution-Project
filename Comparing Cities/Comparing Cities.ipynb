{
 "cells": [
  {
   "cell_type": "markdown",
   "metadata": {},
   "source": [
    "## Early aims for this Notebook:\n",
    "- Make a function that lets you easily load CSVs from URLs to variables\n",
    "- Function that flexibly cleans DataFrames, as different locations have different air pollution metrics"
   ]
  },
  {
   "cell_type": "code",
   "execution_count": 2,
   "metadata": {},
   "outputs": [],
   "source": [
    "### Imports ###\n",
    "import pandas as pd\n",
    "import numpy as np\n",
    "import seaborn as sns\n",
    "import matplotlib.pyplot as plt\n",
    "import matplotlib as mpl\n",
    "mpl.style.use('seaborn-poster')\n",
    "from matplotlib.pyplot import *\n",
    "from datetime import timedelta\n",
    "import calendar # for getting month name i.e. Feb from month number\n",
    "from urllib.request import urlretrieve # for getting data from URLs\n",
    "from datetime import datetime\n",
    "import datetime as dt\n",
    "import os # for deleting files\n",
    "%matplotlib inline"
   ]
  },
  {
   "cell_type": "markdown",
   "metadata": {},
   "source": [
    "---\n",
    "\n",
    "To start with, will compare **Reading London Road** ([link](https://uk-air.defra.gov.uk/data/flat_files?site_id=REA5)) to **Derby** ([link](https://uk-air.defra.gov.uk/data/flat_files?site_id=DESA)) to **Newcastle Centre** ([link](https://uk-air.defra.gov.uk/data/flat_files?site_id=NEWC))\n",
    "\n",
    "---\n",
    "\n",
    "### Data for each location:\n",
    "#### Derby:\n",
    "- Data from: 2017\n",
    "- Metrics: Nitric oxide, Nitrogen dioxide, Nitrogen oxides as nitrogen dioxide\n",
    "\n",
    "#### Reading: \n",
    "- Data from: \n",
    "- Metrics: Nitric oxide, Nitrogen dioxide, Nitrogen oxides as nitrogen dioxide, PM10 particulate matter\n",
    "\n",
    "#### Newcastle: \n",
    "- Data from: 1992\n",
    "- Metrics: Ozone\n",
    "\n",
    "#### Total metrics that can be measured:\n",
    "- Ozone, Nitric oxide, Nitrogen dioxide, Nitrogen oxides as nitrogen dioxide, Sulphur dioxide, Carbon monoxide, PM10 particulate matter, Non-volatile PM10, Colatile PM10, PM 2.5 particulate matter, Non-volatile PM2.5, Volatile PM2.5"
   ]
  },
  {
   "cell_type": "code",
   "execution_count": 43,
   "metadata": {},
   "outputs": [
    {
     "ename": "ValueError",
     "evalue": "too many values to unpack (expected 4)",
     "output_type": "error",
     "traceback": [
      "\u001b[1;31m---------------------------------------------------------------------------\u001b[0m",
      "\u001b[1;31mValueError\u001b[0m                                Traceback (most recent call last)",
      "\u001b[1;32m<ipython-input-43-e90e81e1caf7>\u001b[0m in \u001b[0;36m<module>\u001b[1;34m\u001b[0m\n\u001b[0;32m     12\u001b[0m                                              \u001b[1;34m'https://uk-air.defra.gov.uk/data_files/site_data/DESA_2019.csv'\u001b[0m\u001b[1;33m,\u001b[0m\u001b[1;33m\u001b[0m\u001b[1;33m\u001b[0m\u001b[0m\n\u001b[0;32m     13\u001b[0m                                              \u001b[1;34m'https://uk-air.defra.gov.uk/data_files/site_data/DESA_2018.csv'\u001b[0m\u001b[1;33m,\u001b[0m\u001b[1;33m\u001b[0m\u001b[1;33m\u001b[0m\u001b[0m\n\u001b[1;32m---> 14\u001b[1;33m                                              'https://uk-air.defra.gov.uk/data_files/site_data/DESA_2017.csv')\n\u001b[0m",
      "\u001b[1;31mValueError\u001b[0m: too many values to unpack (expected 4)"
     ]
    }
   ],
   "source": [
    "# a function where you can put in a URL linking to a CSV and it'll return a df\n",
    "\n",
    "# maybe one where you give it a dictionary of data and it saves the csvs to variables\n",
    "\n",
    "# i.e. derby_2020, derby_2019 = data_get('url1','url2')\n",
    "\n",
    "def getdata(*urls):\n",
    "\tfor i in urls:\n",
    "   \t\treturn pd.read_csv(i,skiprows=4)\n",
    "    \n",
    "derby20, derby19, derby18, derby17 = getdata('https://uk-air.defra.gov.uk/data_files/site_data/DESA_2020.csv',\n",
    "                                             'https://uk-air.defra.gov.uk/data_files/site_data/DESA_2019.csv',\n",
    "                                             'https://uk-air.defra.gov.uk/data_files/site_data/DESA_2018.csv',\n",
    "                                             'https://uk-air.defra.gov.uk/data_files/site_data/DESA_2017.csv')"
   ]
  },
  {
   "cell_type": "code",
   "execution_count": null,
   "metadata": {},
   "outputs": [],
   "source": []
  }
 ],
 "metadata": {
  "kernelspec": {
   "display_name": "Python 3",
   "language": "python",
   "name": "python3"
  },
  "language_info": {
   "codemirror_mode": {
    "name": "ipython",
    "version": 3
   },
   "file_extension": ".py",
   "mimetype": "text/x-python",
   "name": "python",
   "nbconvert_exporter": "python",
   "pygments_lexer": "ipython3",
   "version": "3.7.4"
  }
 },
 "nbformat": 4,
 "nbformat_minor": 4
}
