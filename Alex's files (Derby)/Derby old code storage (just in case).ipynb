{
 "cells": [
  {
   "cell_type": "markdown",
   "metadata": {},
   "source": [
    "# This won't work without the data loading and cleaning functions\n",
    "- Don't really want it but thought I'd keep it just in case"
   ]
  },
  {
   "cell_type": "markdown",
   "metadata": {},
   "source": [
    "## Below makes a subplot of the four years. Not very user friendly or useful"
   ]
  },
  {
   "cell_type": "code",
   "execution_count": null,
   "metadata": {},
   "outputs": [],
   "source": [
    "# user enters start and end date to compare in format 'MM-DD'\n",
    "# mask of each year to only show between these dates\n",
    "# make plot for each year and stack them on top of each other as subplots\n",
    "\n",
    "def year_comparison(start,end,resample_string):\n",
    "    global df_2020, df_2019, df_2018, df_2017\n",
    "    '''\n",
    "    Parameters:\n",
    "    start = string of date in format 'MM-DD'\n",
    "    end = string of date in format 'MM-DD'\n",
    "    resample_string = 'H','D','W','M'\n",
    "    '''\n",
    "    # below is hideous but I'm just doing it in this dumb way because I know it'll work\n",
    "    # gets you start and end dates for each year\n",
    "    start_2020 = '2020-' + start\n",
    "    start_2020 = pd.to_datetime(start_2020)\n",
    "    end_2020 = '2020-' + end\n",
    "    end_2020 = pd.to_datetime(end_2020)\n",
    "    \n",
    "    start_2019 = '2019-' + start\n",
    "    start_2019 = pd.to_datetime(start_2019)\n",
    "    end_2019 = '2019-' + end\n",
    "    end_2019 = pd.to_datetime(end_2019)\n",
    "       \n",
    "    start_2018 = '2018-' + start\n",
    "    start_2018 = pd.to_datetime(start_2018)\n",
    "    end_2018 = '2018-' + end\n",
    "    end_2018 = pd.to_datetime(end_2018)\n",
    "    \n",
    "    start_2017 = '2017-' + start\n",
    "    start_2017 = pd.to_datetime(start_2017)\n",
    "    end_2017 = '2017-' + end\n",
    "    end_2017 = pd.to_datetime(end_2017)\n",
    "    \n",
    "    ### MASKS ###\n",
    "    # 2020\n",
    "    mask = (df_2020['Date Time'] >= start_2020) & (df_2020['Date Time'] <= end_2020)\n",
    "    df_2020 = df_2020.loc[mask]\n",
    "    # 2019\n",
    "    mask = (df_2019['Date Time'] >= start_2019) & (df_2019['Date Time'] <= end_2019)\n",
    "    df_2019 = df_2019.loc[mask]\n",
    "    # 2018\n",
    "    mask = (df_2018['Date Time'] >= start_2018) & (df_2018['Date Time'] <= end_2018)\n",
    "    df_2018 = df_2018.loc[mask]\n",
    "    # 2017\n",
    "    mask = (df_2017['Date Time'] >= start_2017) & (df_2017['Date Time'] <= end_2017)\n",
    "    df_2017 = df_2017.loc[mask]\n",
    "\n",
    "    ### MAKE SUBPLOTS ###\n",
    "    # Subplot layout - 4 long plots on top of each other \n",
    "\n",
    "    if resample_string == 'H':    \n",
    "        f, (ax1, ax2, ax3, ax4) = plt.subplots(4, 1, sharey=True,figsize=(16,16))\n",
    "        ax1.plot(df_2020.index, df_2020['Nitric oxide'])\n",
    "        ax1.set_title('2020')\n",
    "        ax2.plot(df_2019.index, df_2019['Nitric oxide'])\n",
    "        ax1.set_title('2019')\n",
    "        ax3.plot(df_2018.index, df_2018['Nitric oxide'])\n",
    "        ax1.set_title('2018')\n",
    "        ax4.plot(df_2017.index, df_2017['Nitric oxide'])\n",
    "        ax1.set_title('2018')"
   ]
  }
 ],
 "metadata": {
  "kernelspec": {
   "display_name": "Python 3",
   "language": "python",
   "name": "python3"
  },
  "language_info": {
   "codemirror_mode": {
    "name": "ipython",
    "version": 3
   },
   "file_extension": ".py",
   "mimetype": "text/x-python",
   "name": "python",
   "nbconvert_exporter": "python",
   "pygments_lexer": "ipython3",
   "version": "3.6.8"
  }
 },
 "nbformat": 4,
 "nbformat_minor": 2
}
