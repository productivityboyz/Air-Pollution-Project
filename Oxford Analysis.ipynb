{
 "cells": [
  {
   "cell_type": "code",
   "execution_count": 1,
   "metadata": {},
   "outputs": [],
   "source": [
    "#import the necessary functions for the program\n",
    "from urllib.request import urlretrieve\n",
    "import pandas as pd\n",
    "import datetime\n",
    "import matplotlib.pyplot as plt\n",
    "plt.style.use('seaborn')\n",
    "from reading_workflow.data import clean_data"
   ]
  },
  {
   "cell_type": "code",
   "execution_count": null,
   "metadata": {},
   "outputs": [],
   "source": [
    "#create datasets for each of the four available years\n",
    "data_2020 = clean_data('https://uk-air.defra.gov.uk/data_files/site_data/OX8_2020.csv')\n",
    "data_2019 = clean_data('https://uk-air.defra.gov.uk/data_files/site_data/OX8_2020.csv')\n",
    "data_2018 = clean_data('https://uk-air.defra.gov.uk/data_files/site_data/OX8_2020.csv')\n",
    "data_2017 = clean_data('https://uk-air.defra.gov.uk/data_files/site_data/OX8_2020.csv')\n",
    "data_2016 = clean_data('https://uk-air.defra.gov.uk/data_files/site_data/OX8_2020.csv')"
   ]
  }
 ],
 "metadata": {
  "kernelspec": {
   "display_name": "Python 3",
   "language": "python",
   "name": "python3"
  },
  "language_info": {
   "codemirror_mode": {
    "name": "ipython",
    "version": 3
   },
   "file_extension": ".py",
   "mimetype": "text/x-python",
   "name": "python",
   "nbconvert_exporter": "python",
   "pygments_lexer": "ipython3",
   "version": "3.7.6"
  }
 },
 "nbformat": 4,
 "nbformat_minor": 4
}
