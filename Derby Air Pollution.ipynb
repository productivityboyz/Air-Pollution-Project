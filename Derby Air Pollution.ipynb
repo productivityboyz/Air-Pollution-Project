{
 "cells": [
  {
   "cell_type": "markdown",
   "metadata": {},
   "source": [
    "# Derby Air Pollution Project\n",
    "\n",
    "## Workflow\n",
    "\n",
    "1) Get data from URL\n",
    "\n",
    "2) Clean data\n",
    "\n",
    "3) Plot graph per hour\n",
    "\n",
    "4) Plot graph per day etc, do resampling"
   ]
  },
  {
   "cell_type": "code",
   "execution_count": 1,
   "metadata": {},
   "outputs": [],
   "source": [
    "### Imports ###\n",
    "\n",
    "from datetime import timedelta\n",
    "%matplotlib inline\n",
    "import matplotlib.pyplot as plt\n",
    "from matplotlib.pyplot import *\n",
    "import seaborn as sns\n",
    "import pandas as pd\n",
    "from urllib.request import urlretrieve\n",
    "from datetime import datetime\n",
    "\n",
    "### Get data ###\n",
    "URL_2020 = 'https://uk-air.defra.gov.uk/data_files/site_data/DESA_2020.csv'\n",
    "URL_2019 = 'https://uk-air.defra.gov.uk/data_files/site_data/DESA_2019.csv'\n",
    "URL_2018 = 'https://uk-air.defra.gov.uk/data_files/site_data/DESA_2018.csv'\n",
    "URL_2017 = 'https://uk-air.defra.gov.uk/data_files/site_data/DESA_2017.csv' \n",
    "\n",
    "\n",
    "urlretrieve(URL_2020,'derby_2020.csv')\n",
    "urlretrieve(URL_2019,'derby_2019.csv')\n",
    "urlretrieve(URL_2018,'derby_2018.csv')\n",
    "urlretrieve(URL_2017,'derby_2017.csv')\n",
    "\n",
    "df_2020 = pd.read_csv('derby_2020.csv',skiprows=4) # (skipping top 4 rows as they're empty)\n",
    "df_2019 = pd.read_csv('derby_2019.csv',skiprows=4)\n",
    "df_2018 = pd.read_csv('derby_2018.csv',skiprows=4)\n",
    "df_2017 = pd.read_csv('derby_2017.csv',skiprows=4)\n",
    "unit = 'ugm^3'\n",
    "\n",
    "### Cleaning data ###\n",
    "# Issue with the data: \n",
    "# what should be \"02-01-2020\" and \"00:00\" is called \"01-01-2020\"  and \"24:00\" which Pandas doesn't like\n",
    "# Need to take every instance where this happens and + 1 to the date and replace 24:00 with 00:00\n",
    "\n",
    "def datetime_cleaner(variable):\n",
    "    '''\n",
    "    Function to take every date + time where date is i.e. 1/1/2020 24:00 and turn it into 2/1/2020 00:00\n",
    "    Also removes redundant columns\n",
    "    Doesn't set the index to the datetime though\n",
    "    '''\n",
    "    variable['Date'] = pd.to_datetime(variable['Date']).dt.strftime('%d-%m-%Y')\n",
    "    variable['Date'] = pd.to_datetime(variable['Date'])\n",
    "\n",
    "    # date + 1 for every 24th entry \n",
    "    counter = 0\n",
    "    for i, row in variable.iterrows():\n",
    "        counter += 1\n",
    "        if counter % 24 == 0:\n",
    "            value = variable.at[i,'Date'] + pd.Timedelta(1,unit='d')\n",
    "            variable.at[i,'Date'] = value\n",
    "\n",
    "    # cleaning up columns and data types in a really janky way\n",
    "    variable['time'] = variable['time'].replace(to_replace='24:00',value='00:00')\n",
    "    variable['Date String'] = variable['Date'].astype(str)\n",
    "    variable['Date Time String'] = variable['Date String'] + \" \" + variable['time']\n",
    "    variable['Date Time'] = pd.to_datetime(variable['Date Time String'])\n",
    "    variable.drop(['Date','time','status','unit','status.1','unit.1','status.2','unit.2','Date String','Date Time String'],\n",
    "                 axis=1,inplace=True)\n",
    "    \n",
    "    # making 'Date Time No Year' column\n",
    "    variable['Date Time No Year'] = variable['Date Time'].dt.strftime('%d-%m %H:%M')\n",
    "    \n",
    "    # setting index to be the date time\n",
    "    variable.index = variable['Date Time']\n",
    "    \n",
    "datetime_cleaner(df_2020)\n",
    "datetime_cleaner(df_2019)\n",
    "datetime_cleaner(df_2018)\n",
    "datetime_cleaner(df_2017)\n",
    "\n",
    "# Make new dataframe containing all data\n",
    "frames = [df_2017,df_2018,df_2019,df_2020]\n",
    "\n",
    "df_all = pd.concat(frames)\n",
    "df_all_index = df_all.copy()\n",
    "df_all_index.index = df_all_index['Date Time']"
   ]
  },
  {
   "cell_type": "markdown",
   "metadata": {},
   "source": [
    "# Exploratory data analysis"
   ]
  },
  {
   "cell_type": "code",
   "execution_count": 87,
   "metadata": {},
   "outputs": [],
   "source": [
    "# function to let you decide date range to plot\n",
    "def plot_date_range(dateinput,resample_string,plottype,aggregate):\n",
    "    '''\n",
    "    Parameters:\n",
    "    dateinput = date string in format YYYY-MM-DD\n",
    "    resample = string of 'H'/'D'/'W'/'M'\n",
    "    plottype = string 'line' or 'bar'\n",
    "    aggregate = string 'sum','average','median'\n",
    "    '''\n",
    "    resample_string = resample_string.upper() # just in case user were to input h instead of H\n",
    "    \n",
    "    # for title of chart\n",
    "    if resample_string == 'H':\n",
    "        title_string = 'Hourly'\n",
    "    elif resample_string == 'D':\n",
    "        title_string = 'Daily'\n",
    "    elif resample_string == 'W':\n",
    "        title_string = 'Weekly'\n",
    "    elif resample_string == 'M':\n",
    "        title_string = 'Monthly'\n",
    "    \n",
    "    # date to plot from \n",
    "    dateinput_datetime = datetime.strptime(dateinput,'%Y-%m-%d')\n",
    "    \n",
    "    # resampling based on input\n",
    "    if resample_string == 'H':\n",
    "        z = df_all_index[df_all_index.index>=dateinput_datetime]\n",
    "        if plottype == 'line':\n",
    "            x = z[['Nitric oxide','Nitrogen dioxide']].plot(figsize=(15,10))\n",
    "        elif plottype == 'bar':\n",
    "            x = z[['Nitric oxide','Nitrogen dioxide']].plot.bar(figsize=(15,10))\n",
    "        x.set_title('Hourly Emissions Since {}'.format(dateinput))\n",
    "        x.set_ylim(0)\n",
    "    else:    \n",
    "        z = df_all_index[df_all_index.index>=dateinput_datetime]\n",
    "        if plottype == 'line':\n",
    "            if aggregate == 'sum':\n",
    "                x = z[['Nitric oxide','Nitrogen dioxide']].resample(resample_string).sum().plot(figsize=(15,10))\n",
    "            elif aggregate == 'mean':\n",
    "                x = z[['Nitric oxide','Nitrogen dioxide']].resample(resample_string).mean().plot(figsize=(15,10))\n",
    "            elif aggregate == 'median': \n",
    "                x = z[['Nitric oxide','Nitrogen dioxide']].resample(resample_string).median().plot(figsize=(15,10))\n",
    "            x.set_title('{} {} Emissions Since {}'.format(aggregate.title(),title_string,dateinput))\n",
    "            x.set_ylim(0)\n",
    "        elif plottype == 'bar':\n",
    "            if aggregate == 'sum':\n",
    "                x = z[['Nitric oxide','Nitrogen dioxide']].resample(resample_string).sum().plot.bar(figsize=(15,10))\n",
    "            elif aggregate == 'mean':\n",
    "                x = z[['Nitric oxide','Nitrogen dioxide']].resample(resample_string).mean().plot.bar(figsize=(15,10))\n",
    "            elif aggregate == 'median':\n",
    "                x = z[['Nitric oxide','Nitrogen dioxide']].resample(resample_string).median().plot.bar(figsize=(15,10))\n",
    "            x.set_title('{} {} Emissions Since {}'.format(aggregate.title(),title_string,dateinput))\n",
    "            x.set_ylim(0)"
   ]
  },
  {
   "cell_type": "code",
   "execution_count": 96,
   "metadata": {},
   "outputs": [
    {
     "data": {
      "image/png": "[encoded data removed]",
      "text/plain": [
       "<Figure size 1080x720 with 1 Axes>"
      ]
     },
     "metadata": {
      "needs_background": "light"
     },
     "output_type": "display_data"
    }
   ],
   "source": [
    "plot_date_range('2019-03-01','M','bar','median')"
   ]
  },
  {
   "cell_type": "markdown",
   "metadata": {},
   "source": [
    "# Year comparison\n",
    "- It'd be great to be able to plot each year's data on top of each othr\n",
    "- Maybe best to do with subplots"
   ]
  }
 ],
 "metadata": {
  "kernelspec": {
   "display_name": "Python 3",
   "language": "python",
   "name": "python3"
  },
  "language_info": {
   "codemirror_mode": {
    "name": "ipython",
    "version": 3
   },
   "file_extension": ".py",
   "mimetype": "text/x-python",
   "name": "python",
   "nbconvert_exporter": "python",
   "pygments_lexer": "ipython3",
   "version": "3.7.4"
  }
 },
 "nbformat": 4,
 "nbformat_minor": 2
}
